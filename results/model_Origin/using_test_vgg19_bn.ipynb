{
  "nbformat": 4,
  "nbformat_minor": 0,
  "metadata": {
    "colab": {
      "provenance": []
    },
    "kernelspec": {
      "name": "python3",
      "display_name": "Python 3"
    },
    "language_info": {
      "name": "python"
    }
  },
  "cells": [
    {
      "cell_type": "code",
      "execution_count": 1,
      "metadata": {
        "id": "2IxP5EKL8tAb"
      },
      "outputs": [],
      "source": [
        "import torch\n",
        "import torchvision.transforms as transforms\n",
        "import torchvision.datasets as datasets\n",
        "\n",
        "\n"
      ]
    },
    {
      "cell_type": "code",
      "source": [
        "# Step 1: Load the pre-trained model\n",
        "model = torch.hub.load(\"chenyaofo/pytorch-cifar-models\", \"cifar10_vgg19_bn\", pretrained=True)\n",
        "model.eval()\n",
        "\n"
      ],
      "metadata": {
        "colab": {
          "base_uri": "https://localhost:8080/"
        },
        "id": "Y4fEOJ8J8yxC",
        "outputId": "f9a467cd-4f47-4dc7-d68f-f046db114027"
      },
      "execution_count": 2,
      "outputs": [
        {
          "output_type": "stream",
          "name": "stderr",
          "text": [
            "/usr/local/lib/python3.10/dist-packages/torch/hub.py:286: UserWarning: You are about to download and run code from an untrusted repository. In a future release, this won't be allowed. To add the repository to your trusted list, change the command to {calling_fn}(..., trust_repo=False) and a command prompt will appear asking for an explicit confirmation of trust, or load(..., trust_repo=True), which will assume that the prompt is to be answered with 'yes'. You can also use load(..., trust_repo='check') which will only prompt for confirmation if the repo is not already trusted. This will eventually be the default behaviour\n",
            "  warnings.warn(\n",
            "Downloading: \"https://github.com/chenyaofo/pytorch-cifar-models/zipball/master\" to /root/.cache/torch/hub/master.zip\n",
            "Downloading: \"https://github.com/chenyaofo/pytorch-cifar-models/releases/download/vgg/cifar10_vgg19_bn-57191229.pt\" to /root/.cache/torch/hub/checkpoints/cifar10_vgg19_bn-57191229.pt\n",
            "100%|██████████| 78.5M/78.5M [00:00<00:00, 127MB/s]\n"
          ]
        },
        {
          "output_type": "execute_result",
          "data": {
            "text/plain": [
              "VGG(\n",
              "  (features): Sequential(\n",
              "    (0): Conv2d(3, 64, kernel_size=(3, 3), stride=(1, 1), padding=(1, 1))\n",
              "    (1): BatchNorm2d(64, eps=1e-05, momentum=0.1, affine=True, track_running_stats=True)\n",
              "    (2): ReLU(inplace=True)\n",
              "    (3): Conv2d(64, 64, kernel_size=(3, 3), stride=(1, 1), padding=(1, 1))\n",
              "    (4): BatchNorm2d(64, eps=1e-05, momentum=0.1, affine=True, track_running_stats=True)\n",
              "    (5): ReLU(inplace=True)\n",
              "    (6): MaxPool2d(kernel_size=2, stride=2, padding=0, dilation=1, ceil_mode=False)\n",
              "    (7): Conv2d(64, 128, kernel_size=(3, 3), stride=(1, 1), padding=(1, 1))\n",
              "    (8): BatchNorm2d(128, eps=1e-05, momentum=0.1, affine=True, track_running_stats=True)\n",
              "    (9): ReLU(inplace=True)\n",
              "    (10): Conv2d(128, 128, kernel_size=(3, 3), stride=(1, 1), padding=(1, 1))\n",
              "    (11): BatchNorm2d(128, eps=1e-05, momentum=0.1, affine=True, track_running_stats=True)\n",
              "    (12): ReLU(inplace=True)\n",
              "    (13): MaxPool2d(kernel_size=2, stride=2, padding=0, dilation=1, ceil_mode=False)\n",
              "    (14): Conv2d(128, 256, kernel_size=(3, 3), stride=(1, 1), padding=(1, 1))\n",
              "    (15): BatchNorm2d(256, eps=1e-05, momentum=0.1, affine=True, track_running_stats=True)\n",
              "    (16): ReLU(inplace=True)\n",
              "    (17): Conv2d(256, 256, kernel_size=(3, 3), stride=(1, 1), padding=(1, 1))\n",
              "    (18): BatchNorm2d(256, eps=1e-05, momentum=0.1, affine=True, track_running_stats=True)\n",
              "    (19): ReLU(inplace=True)\n",
              "    (20): Conv2d(256, 256, kernel_size=(3, 3), stride=(1, 1), padding=(1, 1))\n",
              "    (21): BatchNorm2d(256, eps=1e-05, momentum=0.1, affine=True, track_running_stats=True)\n",
              "    (22): ReLU(inplace=True)\n",
              "    (23): Conv2d(256, 256, kernel_size=(3, 3), stride=(1, 1), padding=(1, 1))\n",
              "    (24): BatchNorm2d(256, eps=1e-05, momentum=0.1, affine=True, track_running_stats=True)\n",
              "    (25): ReLU(inplace=True)\n",
              "    (26): MaxPool2d(kernel_size=2, stride=2, padding=0, dilation=1, ceil_mode=False)\n",
              "    (27): Conv2d(256, 512, kernel_size=(3, 3), stride=(1, 1), padding=(1, 1))\n",
              "    (28): BatchNorm2d(512, eps=1e-05, momentum=0.1, affine=True, track_running_stats=True)\n",
              "    (29): ReLU(inplace=True)\n",
              "    (30): Conv2d(512, 512, kernel_size=(3, 3), stride=(1, 1), padding=(1, 1))\n",
              "    (31): BatchNorm2d(512, eps=1e-05, momentum=0.1, affine=True, track_running_stats=True)\n",
              "    (32): ReLU(inplace=True)\n",
              "    (33): Conv2d(512, 512, kernel_size=(3, 3), stride=(1, 1), padding=(1, 1))\n",
              "    (34): BatchNorm2d(512, eps=1e-05, momentum=0.1, affine=True, track_running_stats=True)\n",
              "    (35): ReLU(inplace=True)\n",
              "    (36): Conv2d(512, 512, kernel_size=(3, 3), stride=(1, 1), padding=(1, 1))\n",
              "    (37): BatchNorm2d(512, eps=1e-05, momentum=0.1, affine=True, track_running_stats=True)\n",
              "    (38): ReLU(inplace=True)\n",
              "    (39): MaxPool2d(kernel_size=2, stride=2, padding=0, dilation=1, ceil_mode=False)\n",
              "    (40): Conv2d(512, 512, kernel_size=(3, 3), stride=(1, 1), padding=(1, 1))\n",
              "    (41): BatchNorm2d(512, eps=1e-05, momentum=0.1, affine=True, track_running_stats=True)\n",
              "    (42): ReLU(inplace=True)\n",
              "    (43): Conv2d(512, 512, kernel_size=(3, 3), stride=(1, 1), padding=(1, 1))\n",
              "    (44): BatchNorm2d(512, eps=1e-05, momentum=0.1, affine=True, track_running_stats=True)\n",
              "    (45): ReLU(inplace=True)\n",
              "    (46): Conv2d(512, 512, kernel_size=(3, 3), stride=(1, 1), padding=(1, 1))\n",
              "    (47): BatchNorm2d(512, eps=1e-05, momentum=0.1, affine=True, track_running_stats=True)\n",
              "    (48): ReLU(inplace=True)\n",
              "    (49): Conv2d(512, 512, kernel_size=(3, 3), stride=(1, 1), padding=(1, 1))\n",
              "    (50): BatchNorm2d(512, eps=1e-05, momentum=0.1, affine=True, track_running_stats=True)\n",
              "    (51): ReLU(inplace=True)\n",
              "    (52): MaxPool2d(kernel_size=2, stride=2, padding=0, dilation=1, ceil_mode=False)\n",
              "  )\n",
              "  (classifier): Sequential(\n",
              "    (0): Linear(in_features=512, out_features=512, bias=True)\n",
              "    (1): ReLU(inplace=True)\n",
              "    (2): Dropout(p=0.5, inplace=False)\n",
              "    (3): Linear(in_features=512, out_features=512, bias=True)\n",
              "    (4): ReLU(inplace=True)\n",
              "    (5): Dropout(p=0.5, inplace=False)\n",
              "    (6): Linear(in_features=512, out_features=10, bias=True)\n",
              "  )\n",
              ")"
            ]
          },
          "metadata": {},
          "execution_count": 2
        }
      ]
    },
    {
      "cell_type": "code",
      "source": [
        "# Step 2: Prepare the DataLoader for CIFAR-10 dataset (you can change this to your dataset)\n",
        "transform = transforms.Compose([transforms.ToTensor(), transforms.Normalize((0.5, 0.5, 0.5), (0.5, 0.5, 0.5))])\n",
        "cifar10_test = datasets.CIFAR10(root=\"./data\", train=False, transform=transform, download=True,)\n",
        "\n"
      ],
      "metadata": {
        "colab": {
          "base_uri": "https://localhost:8080/"
        },
        "id": "uJlITnMZ8z-W",
        "outputId": "a2cff50f-7617-4f2f-9d8e-21d34baebf96"
      },
      "execution_count": 3,
      "outputs": [
        {
          "output_type": "stream",
          "name": "stdout",
          "text": [
            "Downloading https://www.cs.toronto.edu/~kriz/cifar-10-python.tar.gz to ./data/cifar-10-python.tar.gz\n"
          ]
        },
        {
          "output_type": "stream",
          "name": "stderr",
          "text": [
            "100%|██████████| 170498071/170498071 [00:02<00:00, 79380675.65it/s]\n"
          ]
        },
        {
          "output_type": "stream",
          "name": "stdout",
          "text": [
            "Extracting ./data/cifar-10-python.tar.gz to ./data\n"
          ]
        }
      ]
    },
    {
      "cell_type": "code",
      "source": [
        "# Step 3: Evaluate the model and count successful predictions\n",
        "correct_count = 0\n",
        "total_count = 0\n",
        "\n",
        "with torch.no_grad():\n",
        "    for images, labels in cifar10_test:\n",
        "        outputs = model(images.unsqueeze(0))  # Make a prediction for a single image\n",
        "        _, predicted = torch.max(outputs, 1)\n",
        "        total_count += 1\n",
        "        if predicted == labels:\n",
        "            correct_count += 1\n",
        "\n"
      ],
      "metadata": {
        "id": "dVMmOfoc80-n"
      },
      "execution_count": 4,
      "outputs": []
    },
    {
      "cell_type": "code",
      "source": [
        "# Step 4: Print the results\n",
        "print(f\"Total images: {total_count}\")\n",
        "print(f\"Correctly predicted: {correct_count}\")\n",
        "print(f\"Accuracy: {100 * correct_count / total_count:.2f}%\")"
      ],
      "metadata": {
        "colab": {
          "base_uri": "https://localhost:8080/"
        },
        "id": "Pg8MSnRj82T4",
        "outputId": "193527ac-b3d1-4404-a9dc-e1d21bae5c53"
      },
      "execution_count": 5,
      "outputs": [
        {
          "output_type": "stream",
          "name": "stdout",
          "text": [
            "Total images: 10000\n",
            "Correctly predicted: 8131\n",
            "Accuracy: 81.31%\n"
          ]
        }
      ]
    },
    {
      "cell_type": "code",
      "source": [
        "correct_counts = {label: 0 for label in range(10)}\n",
        "total_counts = {label: 0 for label in range(10)}\n",
        "\n",
        "with torch.no_grad():\n",
        "    for images, labels in cifar10_test:\n",
        "        outputs = model(images.unsqueeze(0))  # Make a prediction for a single image\n",
        "        _, predicted = torch.max(outputs, 1)\n",
        "        total_counts[labels] += 1\n",
        "        if predicted == labels:\n",
        "            correct_counts[labels] += 1\n",
        "\n",
        "# Step 5: Print the results for each label\n",
        "for label in range(10):\n",
        "    accuracy = (correct_counts[label] / total_counts[label]) * 100 if total_counts[label] > 0 else 0\n",
        "    print(f\"Label {label}: Correctly predicted {correct_counts[label]} out of {total_counts[label]} images. Accuracy: {accuracy:.2f}%\")"
      ],
      "metadata": {
        "colab": {
          "base_uri": "https://localhost:8080/"
        },
        "id": "hh42NlGJ9dK-",
        "outputId": "bb54d720-c0c7-4828-d455-643cf26cf167"
      },
      "execution_count": 6,
      "outputs": [
        {
          "output_type": "stream",
          "name": "stdout",
          "text": [
            "Label 0: Correctly predicted 801 out of 1000 images. Accuracy: 80.10%\n",
            "Label 1: Correctly predicted 814 out of 1000 images. Accuracy: 81.40%\n",
            "Label 2: Correctly predicted 810 out of 1000 images. Accuracy: 81.00%\n",
            "Label 3: Correctly predicted 866 out of 1000 images. Accuracy: 86.60%\n",
            "Label 4: Correctly predicted 909 out of 1000 images. Accuracy: 90.90%\n",
            "Label 5: Correctly predicted 662 out of 1000 images. Accuracy: 66.20%\n",
            "Label 6: Correctly predicted 849 out of 1000 images. Accuracy: 84.90%\n",
            "Label 7: Correctly predicted 760 out of 1000 images. Accuracy: 76.00%\n",
            "Label 8: Correctly predicted 898 out of 1000 images. Accuracy: 89.80%\n",
            "Label 9: Correctly predicted 762 out of 1000 images. Accuracy: 76.20%\n"
          ]
        }
      ]
    },
    {
      "cell_type": "code",
      "source": [
        "import random\n",
        "num_images = 10000\n",
        "random_indices = random.sample(range(len(cifar10_test)), num_images)\n",
        "subset = torch.utils.data.Subset(cifar10_test, random_indices)\n",
        "\n",
        "# Step 5: Initialize a dictionary to count correct predictions for each label\n",
        "correct_counts = {label: 0 for label in range(10)}\n",
        "total_counts = {label: 0 for label in range(10)}\n",
        "\n",
        "with torch.no_grad():\n",
        "    for images, labels in subset:\n",
        "        outputs = model(images.unsqueeze(0))  # Make a prediction for a single image\n",
        "        _, predicted = torch.max(outputs, 1)\n",
        "        total_counts[labels] += 1\n",
        "        if predicted == labels:\n",
        "            correct_counts[labels] += 1\n",
        "\n",
        "# Step 6: Print the results for each label\n",
        "for label in range(10):\n",
        "    accuracy = (correct_counts[label] / total_counts[label]) * 100 if total_counts[label] > 0 else 0\n",
        "    print(f\"Label {label}: Correctly predicted {correct_counts[label]} out of {total_counts[label]} images. Accuracy: {accuracy:.2f}%\")"
      ],
      "metadata": {
        "colab": {
          "base_uri": "https://localhost:8080/"
        },
        "id": "ibSlsaZS-sA0",
        "outputId": "6b9afc1e-fe08-4817-8d46-bc2594b969f1"
      },
      "execution_count": 7,
      "outputs": [
        {
          "output_type": "stream",
          "name": "stdout",
          "text": [
            "Label 0: Correctly predicted 801 out of 1000 images. Accuracy: 80.10%\n",
            "Label 1: Correctly predicted 814 out of 1000 images. Accuracy: 81.40%\n",
            "Label 2: Correctly predicted 810 out of 1000 images. Accuracy: 81.00%\n",
            "Label 3: Correctly predicted 866 out of 1000 images. Accuracy: 86.60%\n",
            "Label 4: Correctly predicted 909 out of 1000 images. Accuracy: 90.90%\n",
            "Label 5: Correctly predicted 662 out of 1000 images. Accuracy: 66.20%\n",
            "Label 6: Correctly predicted 849 out of 1000 images. Accuracy: 84.90%\n",
            "Label 7: Correctly predicted 760 out of 1000 images. Accuracy: 76.00%\n",
            "Label 8: Correctly predicted 898 out of 1000 images. Accuracy: 89.80%\n",
            "Label 9: Correctly predicted 762 out of 1000 images. Accuracy: 76.20%\n"
          ]
        }
      ]
    },
    {
      "cell_type": "code",
      "source": [
        "for label in range(10):\n",
        "    accuracy = (correct_counts[label] / total_counts[label]) * 100 if total_counts[label] > 0 else 0\n",
        "    print(f\"{accuracy:.2f}%\")"
      ],
      "metadata": {
        "colab": {
          "base_uri": "https://localhost:8080/"
        },
        "id": "yLCEm9izMter",
        "outputId": "fc906fe4-3057-4d02-aa23-bfd18fe11b6f"
      },
      "execution_count": 8,
      "outputs": [
        {
          "output_type": "stream",
          "name": "stdout",
          "text": [
            "80.10%\n",
            "81.40%\n",
            "81.00%\n",
            "86.60%\n",
            "90.90%\n",
            "66.20%\n",
            "84.90%\n",
            "76.00%\n",
            "89.80%\n",
            "76.20%\n"
          ]
        }
      ]
    }
  ]
}